{
 "cells": [
  {
   "metadata": {},
   "cell_type": "markdown",
   "source": [
    "# CSCA 5622 Intro to Machine Learning: Final Project\n",
    "\n",
    "## Likelihood of Student Criminal Activity\n",
    "\n",
    "Using public datasets from the Department of Education, find any correlations between states where children attended preschool, teacher certifications, and criminal offenses ocurring at school.  \n",
    "\n",
    "\n",
    "#### DATA INFO\n",
    "\n",
    "**Teacher Credentials:**\n",
    "- The `teacher_creds` data frame records number and percentage of public school classroom teachers (in full-time equivalents), by certification status and years of experience, by state: School Year 2013-14.\n",
    "\n",
    "- Table reads (for US Totals): Of all 3,138,535 classroom teachers (FTE), 3,084,697 (98.3%) met all state licensing/certification requirements. Data reported in this table represent 100.0% of responding schools.\n",
    "\n",
    "- *Source: U.S. Department of Education, Office for Civil Rights, Civil Rights Data Collection, 2013-14, available at http://ocrdata.ed.gov. Data notes are available at http://ocrdata.ed.gov/downloads/DataNotes.docx*\n",
    " \n",
    "**Preschool Enrollment:**\n",
    "- The `preschool` data frame records number and percentage of public school students enrolled in Preschool, by race/ethnicity, disability status, and English proficiency, by state: School Year 2015-16.\n",
    "\n",
    "- Table reads (for US Totals): Of all 1,536,982 public school students enrolled in Preschool, 17,964 (1.2%) were American Indian or Alaska Native, and 313,601 (20.4%) were students with disabilities served under the Individuals with Disabilities Education Act (IDEA). Data reported in this table represent 100.0% of responding schools.\t\t\t\t\t\t\t\t\t\t\t\t\t\t\t\t\t\t\t\t\t\t\n",
    "\t\n",
    "- *Source: U.S. Department of Education, Office for Civil Rights, Civil Rights Data Collection, 2015-16, available at http://ocrdata.ed.gov. Data notes are available at https://ocrdata.ed.gov/Downloads/Data-Notes-2015-16-CRDC.pdf*\n",
    "\n",
    "**School Incidents:**\n",
    "- The `incidents` data frame records number of incidents, by state: School Year 2015-16.\n",
    "\n",
    "- Table reads (for US): The number of incidents of sexual assault was 9,255. Data reported in this table represent 98.0% of responding schools.\n",
    "\n",
    "- *Source: U.S. Department of Education, Office for Civil Rights, Civil Rights Data Collection, 2015-16, available at http://ocrdata.ed.gov. Data notes are available at https://ocrdata.ed.gov/Downloads/Data-Notes-2015-16-CRDC.pdf.*\t\t\t\t\t\t\t\t\t\t\t\t\t\t\t\t\t\n",
    "\n",
    "##### Disclaimers \n",
    "- Due to limited data available, the teacher credentials data is from school year 2013-2014 while the other two data sets are from 2015-2016.\n",
    "- The school incidents data provides a disclaimer at the footer to \"Interpret data in this row with caution. Data are missing for more than 15 percent of schools.\"\n",
    "- This is only one school year's worth of data and would probably be more accurate with several years. \n",
    "\n",
    "**This results of this experiment will inherently be inacurrate so this should not be interpreted as factual.**"
   ],
   "id": "9d9c297f672c51c0"
  },
  {
   "metadata": {
    "collapsed": true,
    "ExecuteTime": {
     "end_time": "2024-10-15T09:10:09.777222Z",
     "start_time": "2024-10-15T09:10:09.773871Z"
    }
   },
   "cell_type": "code",
   "source": [
    "%matplotlib inline\n",
    "import numpy as np\n",
    "import scipy as sp\n",
    "import scipy.stats as stats\n",
    "import pandas as pd\n",
    "import matplotlib.pyplot as plt\n",
    "import seaborn as sns\n",
    "from sklearn.model_selection import train_test_split\n",
    "\n",
    "# Set color map to have light blue background\n",
    "sns.set()\n",
    "import statsmodels.formula.api as smf\n",
    "import statsmodels.api as sm\n",
    "from pathlib import Path\n",
    "from ISLP import load_data"
   ],
   "id": "initial_id",
   "outputs": [],
   "execution_count": 77
  },
  {
   "metadata": {},
   "cell_type": "markdown",
   "source": [
    "# Load & Prepare Teacher Credentials Data\n",
    "- Load theExcel sheet and exlcude the top three rows of formatting.\n",
    "- Rename long column names to shorter acronyms. See comments in the code for mappings.\n",
    "- Remove the empty 0index `NaN` column from Excel sheet.\n",
    "- Drop the last three rows of metada and formatting. "
   ],
   "id": "8bee9acc20b406a1"
  },
  {
   "metadata": {
    "ExecuteTime": {
     "end_time": "2024-10-15T09:10:09.829605Z",
     "start_time": "2024-10-15T09:10:09.802221Z"
    }
   },
   "cell_type": "code",
   "source": [
    "# -- Load Teach Credentials DataFrame\n",
    "file_path = Path.cwd().joinpath(\"../../data/teacher-certification-and-years-of-experience.xlsx\")\n",
    "teacher_creds = pd.read_excel(\n",
    "    file_path,\n",
    "    header=2,\n",
    "    skiprows=[0, 1, 2], # -- Exclude the top three rows of formatting\n",
    "    \n",
    "    names=[    \n",
    "        \"C0\",\n",
    "        \"State\",\n",
    "        \"CT (FTE)\",\n",
    "        # \"Classroom Teachers (FTE)\",\n",
    "        \"MR (FTE)\",\n",
    "        # \"Meeting All State Licensing/Certification Requirements (FTE)\",\n",
    "        \"MR (P)\",\n",
    "        # \"Meeting All State Licensing/Certification Requirements (P)\",\n",
    "        \"FY (FTE)\",\n",
    "        # \"Classroom Teachers in their First Year of Teaching (FTE)\",\n",
    "        \"FY (P)\",\n",
    "        # \"Classroom Teachers in their First Year of Teaching (P)\",\n",
    "        \"SY (FTE)\",\n",
    "        \"SY (P)\",\n",
    "        \"schools\",\n",
    "        \"schools (P)\",\n",
    "      ]\n",
    ")\n",
    "\n",
    "# -- Remove empty NaN column values\n",
    "teacher_creds.drop([\"C0\"], axis=1, inplace=True)\n",
    "\n",
    "# -- Delete metadata text\n",
    "teacher_creds.drop([52, 53, 54, 55], inplace=True)"
   ],
   "id": "4a2b2a7e28fc1a69",
   "outputs": [],
   "execution_count": 78
  },
  {
   "metadata": {
    "ExecuteTime": {
     "end_time": "2024-10-15T09:10:09.866134Z",
     "start_time": "2024-10-15T09:10:09.861910Z"
    }
   },
   "cell_type": "code",
   "source": "",
   "id": "6098011ef0c34989",
   "outputs": [],
   "execution_count": null
  },
  {
   "metadata": {
    "ExecuteTime": {
     "end_time": "2024-10-15T09:10:09.904313Z",
     "start_time": "2024-10-15T09:10:09.901795Z"
    }
   },
   "cell_type": "code",
   "source": "",
   "id": "2a76b938778b6186",
   "outputs": [],
   "execution_count": null
  }
 ],
 "metadata": {
  "kernelspec": {
   "display_name": "Python 3",
   "language": "python",
   "name": "python3"
  },
  "language_info": {
   "codemirror_mode": {
    "name": "ipython",
    "version": 2
   },
   "file_extension": ".py",
   "mimetype": "text/x-python",
   "name": "python",
   "nbconvert_exporter": "python",
   "pygments_lexer": "ipython2",
   "version": "2.7.6"
  }
 },
 "nbformat": 4,
 "nbformat_minor": 5
}
