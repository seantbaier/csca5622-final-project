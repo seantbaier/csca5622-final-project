{
 "cells": [
  {
   "metadata": {
    "collapsed": true,
    "ExecuteTime": {
     "end_time": "2024-10-15T08:30:53.693813Z",
     "start_time": "2024-10-15T08:30:53.690725Z"
    }
   },
   "cell_type": "code",
   "source": [
    "%matplotlib inline\n",
    "import numpy as np\n",
    "import scipy as sp\n",
    "import scipy.stats as stats\n",
    "import pandas as pd\n",
    "import matplotlib.pyplot as plt\n",
    "import seaborn as sns\n",
    "from sklearn.model_selection import train_test_split\n",
    "\n",
    "# Set color map to have light blue background\n",
    "sns.set()\n",
    "import statsmodels.formula.api as smf\n",
    "import statsmodels.api as sm\n",
    "from pathlib import Path\n",
    "from ISLP import load_data"
   ],
   "id": "initial_id",
   "outputs": [],
   "execution_count": 47
  },
  {
   "metadata": {
    "ExecuteTime": {
     "end_time": "2024-10-15T08:31:09.981501Z",
     "start_time": "2024-10-15T08:31:09.958672Z"
    }
   },
   "cell_type": "code",
   "source": [
    "file_path = Path.cwd().joinpath(\"../../data/teacher-certification-and-years-of-experience.xlsx\")\n",
    "df = pd.read_excel(\n",
    "    file_path,\n",
    "    header=2,\n",
    "    skiprows=[0,1,2],\n",
    "    names=[    \n",
    "        \"C0\",\n",
    "        \"State\",\n",
    "        \"CT (FTE)\",\n",
    "        # \"Classroom Teachers (FTE)\",\n",
    "        \"MR (FTE)\",\n",
    "        # \"Meeting All State Licensing/Certification Requirements (FTE)\",\n",
    "        \"MR (P)\",\n",
    "        # \"Meeting All State Licensing/Certification Requirements (P)\",\n",
    "        \"FY (FTE)\",\n",
    "        # \"Classroom Teachers in their First Year of Teaching (FTE)\",\n",
    "        \"FY (P)\",\n",
    "        # \"Classroom Teachers in their First Year of Teaching (P)\",\n",
    "        \"SY (FTE)\",\n",
    "        \"SY (P)\",\n",
    "        \"schools\",\n",
    "        \"schools (P)\",\n",
    "      ]\n",
    ")\n",
    "df.drop([\"C0\"], axis=1, inplace=True)\n",
    "df.head()"
   ],
   "id": "4a2b2a7e28fc1a69",
   "outputs": [
    {
     "data": {
      "text/plain": [
       "           State    CT (FTE)    MR (FTE)   MR (P)   FY (FTE)  FY (P)  \\\n",
       "0  United States  3138534.55  3084697.40  98.2846  216087.56  6.8850   \n",
       "1        Alabama    47203.01    46839.32  99.2295    2743.64  5.8124   \n",
       "2         Alaska     7707.29     7639.21  99.1167     506.90  6.5769   \n",
       "3        Arizona    56969.03    54072.38  94.9154    4564.63  8.0125   \n",
       "4       Arkansas    34956.94    34450.44  98.5511    2200.10  6.2937   \n",
       "\n",
       "    SY (FTE)   SY (P)  schools  schools (P)  \n",
       "0  163067.17  5.19565  95507.0       99.971  \n",
       "1    2296.30  4.86473   1397.0      100.000  \n",
       "2     304.97  3.95690    495.0      100.000  \n",
       "3    4046.82  7.10354   1913.0      100.000  \n",
       "4    1822.91  5.21473   1085.0      100.000  "
      ],
      "text/html": [
       "<div>\n",
       "<style scoped>\n",
       "    .dataframe tbody tr th:only-of-type {\n",
       "        vertical-align: middle;\n",
       "    }\n",
       "\n",
       "    .dataframe tbody tr th {\n",
       "        vertical-align: top;\n",
       "    }\n",
       "\n",
       "    .dataframe thead th {\n",
       "        text-align: right;\n",
       "    }\n",
       "</style>\n",
       "<table border=\"1\" class=\"dataframe\">\n",
       "  <thead>\n",
       "    <tr style=\"text-align: right;\">\n",
       "      <th></th>\n",
       "      <th>State</th>\n",
       "      <th>CT (FTE)</th>\n",
       "      <th>MR (FTE)</th>\n",
       "      <th>MR (P)</th>\n",
       "      <th>FY (FTE)</th>\n",
       "      <th>FY (P)</th>\n",
       "      <th>SY (FTE)</th>\n",
       "      <th>SY (P)</th>\n",
       "      <th>schools</th>\n",
       "      <th>schools (P)</th>\n",
       "    </tr>\n",
       "  </thead>\n",
       "  <tbody>\n",
       "    <tr>\n",
       "      <th>0</th>\n",
       "      <td>United States</td>\n",
       "      <td>3138534.55</td>\n",
       "      <td>3084697.40</td>\n",
       "      <td>98.2846</td>\n",
       "      <td>216087.56</td>\n",
       "      <td>6.8850</td>\n",
       "      <td>163067.17</td>\n",
       "      <td>5.19565</td>\n",
       "      <td>95507.0</td>\n",
       "      <td>99.971</td>\n",
       "    </tr>\n",
       "    <tr>\n",
       "      <th>1</th>\n",
       "      <td>Alabama</td>\n",
       "      <td>47203.01</td>\n",
       "      <td>46839.32</td>\n",
       "      <td>99.2295</td>\n",
       "      <td>2743.64</td>\n",
       "      <td>5.8124</td>\n",
       "      <td>2296.30</td>\n",
       "      <td>4.86473</td>\n",
       "      <td>1397.0</td>\n",
       "      <td>100.000</td>\n",
       "    </tr>\n",
       "    <tr>\n",
       "      <th>2</th>\n",
       "      <td>Alaska</td>\n",
       "      <td>7707.29</td>\n",
       "      <td>7639.21</td>\n",
       "      <td>99.1167</td>\n",
       "      <td>506.90</td>\n",
       "      <td>6.5769</td>\n",
       "      <td>304.97</td>\n",
       "      <td>3.95690</td>\n",
       "      <td>495.0</td>\n",
       "      <td>100.000</td>\n",
       "    </tr>\n",
       "    <tr>\n",
       "      <th>3</th>\n",
       "      <td>Arizona</td>\n",
       "      <td>56969.03</td>\n",
       "      <td>54072.38</td>\n",
       "      <td>94.9154</td>\n",
       "      <td>4564.63</td>\n",
       "      <td>8.0125</td>\n",
       "      <td>4046.82</td>\n",
       "      <td>7.10354</td>\n",
       "      <td>1913.0</td>\n",
       "      <td>100.000</td>\n",
       "    </tr>\n",
       "    <tr>\n",
       "      <th>4</th>\n",
       "      <td>Arkansas</td>\n",
       "      <td>34956.94</td>\n",
       "      <td>34450.44</td>\n",
       "      <td>98.5511</td>\n",
       "      <td>2200.10</td>\n",
       "      <td>6.2937</td>\n",
       "      <td>1822.91</td>\n",
       "      <td>5.21473</td>\n",
       "      <td>1085.0</td>\n",
       "      <td>100.000</td>\n",
       "    </tr>\n",
       "  </tbody>\n",
       "</table>\n",
       "</div>"
      ]
     },
     "execution_count": 49,
     "metadata": {},
     "output_type": "execute_result"
    }
   ],
   "execution_count": 49
  },
  {
   "metadata": {
    "ExecuteTime": {
     "end_time": "2024-10-15T08:31:16.044529Z",
     "start_time": "2024-10-15T08:31:16.043134Z"
    }
   },
   "cell_type": "code",
   "source": "",
   "id": "6098011ef0c34989",
   "outputs": [],
   "execution_count": null
  },
  {
   "metadata": {
    "ExecuteTime": {
     "end_time": "2024-10-15T08:30:53.855439Z",
     "start_time": "2024-10-15T08:30:53.854060Z"
    }
   },
   "cell_type": "code",
   "source": "",
   "id": "2a76b938778b6186",
   "outputs": [],
   "execution_count": null
  }
 ],
 "metadata": {
  "kernelspec": {
   "display_name": "Python 3",
   "language": "python",
   "name": "python3"
  },
  "language_info": {
   "codemirror_mode": {
    "name": "ipython",
    "version": 2
   },
   "file_extension": ".py",
   "mimetype": "text/x-python",
   "name": "python",
   "nbconvert_exporter": "python",
   "pygments_lexer": "ipython2",
   "version": "2.7.6"
  }
 },
 "nbformat": 4,
 "nbformat_minor": 5
}
