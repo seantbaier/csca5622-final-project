{
 "cells": [
  {
   "metadata": {},
   "cell_type": "markdown",
   "source": [
    "# CSCA 5622 Intro to Machine Learning: Final Project\n",
    "\n",
    "## Likelihood of Student Criminal Activity\n",
    "\n",
    "Using public datasets from the Department of Education, find any correlations between states where children attended preschool, teacher certifications, and criminal offenses ocurring at school.  \n",
    "\n",
    "\n",
    "#### DATA INFO\n",
    "- The `teacher_creds` data frame records number and percentage of public school classroom teachers (in full-time equivalents), by certification status and years of experience, by state: School Year 2013-14.\n",
    "- The `preschool` data frame records number and percentage of public school students enrolled in Preschool, by race/ethnicity, disability status, and English proficiency, by state: School Year 2015-16.\n",
    "- The `incidents` data frame records number of incidents, by state: School Year 2015-16.\n",
    "\n",
    "**Caveats:** \n",
    "- Due to limited data available, the teacher credentials data is from school year 2013-2014 while the other two data sets are from 2015-2016.\n",
    "- This would probably be more accurate with several years worth of data as well. \n",
    "\n",
    "This mostly likely means that the results will inherently be inacurrate so this is mostly an exercise of curiosity and should not be interpreted as factual.\n",
    "\n",
    "#### SOURCE\n",
    "\n",
    "# ! FIX THIS: Add sources once the site is back online.   "
   ],
   "id": "9d9c297f672c51c0"
  },
  {
   "metadata": {},
   "cell_type": "code",
   "outputs": [],
   "execution_count": null,
   "source": "",
   "id": "4b0c2583eb62b16f"
  },
  {
   "metadata": {
    "collapsed": true,
    "ExecuteTime": {
     "end_time": "2024-10-15T08:38:19.589525Z",
     "start_time": "2024-10-15T08:38:19.586071Z"
    }
   },
   "cell_type": "code",
   "outputs": [],
   "execution_count": 66,
   "source": [
    "%matplotlib inline\n",
    "import numpy as np\n",
    "import scipy as sp\n",
    "import scipy.stats as stats\n",
    "import pandas as pd\n",
    "import matplotlib.pyplot as plt\n",
    "import seaborn as sns\n",
    "from sklearn.model_selection import train_test_split\n",
    "\n",
    "# Set color map to have light blue background\n",
    "sns.set()\n",
    "import statsmodels.formula.api as smf\n",
    "import statsmodels.api as sm\n",
    "from pathlib import Path\n",
    "from ISLP import load_data"
   ],
   "id": "initial_id"
  },
  {
   "metadata": {},
   "cell_type": "markdown",
   "source": [
    "# Load & Clean Data\n",
    "- Exclud the top three rows in the Excel sheet. "
   ],
   "id": "8bee9acc20b406a1"
  },
  {
   "metadata": {
    "ExecuteTime": {
     "end_time": "2024-10-15T08:59:06.969142Z",
     "start_time": "2024-10-15T08:59:06.948879Z"
    }
   },
   "cell_type": "code",
   "source": [
    "# -- Load Teach Credentials DataFrame\n",
    "file_path = Path.cwd().joinpath(\"../../data/teacher-certification-and-years-of-experience.xlsx\")\n",
    "teacher_creds = pd.read_excel(\n",
    "    file_path,\n",
    "    header=2,\n",
    "    skiprows=[0, 1, 2],\n",
    "    names=[    \n",
    "        \"C0\",\n",
    "        \"State\",\n",
    "        \"CT (FTE)\",\n",
    "        # \"Classroom Teachers (FTE)\",\n",
    "        \"MR (FTE)\",\n",
    "        # \"Meeting All State Licensing/Certification Requirements (FTE)\",\n",
    "        \"MR (P)\",\n",
    "        # \"Meeting All State Licensing/Certification Requirements (P)\",\n",
    "        \"FY (FTE)\",\n",
    "        # \"Classroom Teachers in their First Year of Teaching (FTE)\",\n",
    "        \"FY (P)\",\n",
    "        # \"Classroom Teachers in their First Year of Teaching (P)\",\n",
    "        \"SY (FTE)\",\n",
    "        \"SY (P)\",\n",
    "        \"schools\",\n",
    "        \"schools (P)\",\n",
    "      ]\n",
    ")\n",
    "\n",
    "# -- Remove empty NaN column values\n",
    "teacher_creds.drop([\"C0\"], axis=1, inplace=True)\n",
    "\n",
    "# -- Delete metadata text\n",
    "teacher_creds.drop([52, 53, 54, 55], inplace=True)"
   ],
   "id": "4a2b2a7e28fc1a69",
   "outputs": [],
   "execution_count": 76
  },
  {
   "metadata": {
    "ExecuteTime": {
     "end_time": "2024-10-15T08:38:19.702463Z",
     "start_time": "2024-10-15T08:38:19.700782Z"
    }
   },
   "cell_type": "code",
   "source": "",
   "id": "6098011ef0c34989",
   "outputs": [],
   "execution_count": null
  },
  {
   "metadata": {
    "ExecuteTime": {
     "end_time": "2024-10-15T08:38:19.736428Z",
     "start_time": "2024-10-15T08:38:19.734485Z"
    }
   },
   "cell_type": "code",
   "source": "",
   "id": "2a76b938778b6186",
   "outputs": [],
   "execution_count": null
  }
 ],
 "metadata": {
  "kernelspec": {
   "display_name": "Python 3",
   "language": "python",
   "name": "python3"
  },
  "language_info": {
   "codemirror_mode": {
    "name": "ipython",
    "version": 2
   },
   "file_extension": ".py",
   "mimetype": "text/x-python",
   "name": "python",
   "nbconvert_exporter": "python",
   "pygments_lexer": "ipython2",
   "version": "2.7.6"
  }
 },
 "nbformat": 4,
 "nbformat_minor": 5
}
