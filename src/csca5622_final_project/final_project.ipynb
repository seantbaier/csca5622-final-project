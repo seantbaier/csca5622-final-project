{
 "cells": [
  {
   "metadata": {
    "collapsed": true,
    "ExecuteTime": {
     "end_time": "2024-10-13T10:25:54.655683Z",
     "start_time": "2024-10-13T10:25:54.651138Z"
    }
   },
   "cell_type": "code",
   "source": [
    "%matplotlib inline\n",
    "import numpy as np\n",
    "import scipy as sp\n",
    "import scipy.stats as stats\n",
    "import pandas as pd\n",
    "import matplotlib.pyplot as plt\n",
    "import seaborn as sns\n",
    "from sklearn.model_selection import train_test_split\n",
    "\n",
    "# Set color map to have light blue background\n",
    "sns.set()\n",
    "import statsmodels.formula.api as smf\n",
    "import statsmodels.api as sm\n",
    "from pathlib import Path\n",
    "from ISLP import load_data"
   ],
   "id": "initial_id",
   "outputs": [],
   "execution_count": 80
  },
  {
   "metadata": {
    "ExecuteTime": {
     "end_time": "2024-10-13T10:25:54.661533Z",
     "start_time": "2024-10-13T10:25:54.659252Z"
    }
   },
   "cell_type": "code",
   "source": "",
   "id": "4a2b2a7e28fc1a69",
   "outputs": [],
   "execution_count": null
  },
  {
   "metadata": {
    "ExecuteTime": {
     "end_time": "2024-10-13T10:25:54.703866Z",
     "start_time": "2024-10-13T10:25:54.681568Z"
    }
   },
   "cell_type": "code",
   "source": [
    "file_path = Path.cwd().joinpath(\"../../data/teacher-certification-and-years-of-experience.csv\")\n",
    "columns = [\n",
    "    \"C0\",\n",
    "    \"State\",\n",
    "    \"CT (FTE)\",\n",
    "    # \"Classroom Teachers (FTE)\",\n",
    "    \"MR (FTE)\",\n",
    "    # \"Meeting All State Licensing/Certification Requirements (FTE)\",\n",
    "    \"MR (P)\",\n",
    "    # \"Meeting All State Licensing/Certification Requirements (P)\",\n",
    "    \"FY (FTE)\",\n",
    "    # \"Classroom Teachers in their First Year of Teaching (FTE)\",\n",
    "    \"FY (P)\",\n",
    "    # \"Classroom Teachers in their First Year of Teaching (P)\",\n",
    "    \"SY (FTE)\",\n",
    "    \"SY (P)\",\n",
    "    \"schools\",\n",
    "    \"schools (P)\",\n",
    "]\n",
    "\n",
    "df = pd.read_csv(file_path, header=None,\n",
    "                 names=columns,\n",
    "                 )\n",
    "\n",
    "df.drop([\"C0\"], axis=1, inplace=True)\n",
    "# df = load_data(file_path)\n",
    "# print(df.info())\n",
    "# df.describe()\n",
    "print(df.head())"
   ],
   "id": "6098011ef0c34989",
   "outputs": [
    {
     "name": "stdout",
     "output_type": "stream",
     "text": [
      "           State    CT (FTE)    MR (FTE)  MR (P)  FY (FTE)  FY (P)  SY (FTE)  \\\n",
      "0  United States  3,138,535   3,084,697     98.3  216,088      6.9  163,067    \n",
      "1        Alabama     47,203      46,839     99.2    2,744      5.8    2,296    \n",
      "2         Alaska      7,707       7,639     99.1      507      6.6      305    \n",
      "3        Arizona     56,969      54,072     94.9    4,565      8.0    4,047    \n",
      "4       Arkansas     34,957      34,450     98.6    2,200      6.3    1,823    \n",
      "\n",
      "   SY (P)  schools  schools (P)  \n",
      "0     5.2  95,507         100.0  \n",
      "1     4.9   1,397         100.0  \n",
      "2     4.0     495         100.0  \n",
      "3     7.1   1,913         100.0  \n",
      "4     5.2   1,085         100.0  \n"
     ]
    }
   ],
   "execution_count": 81
  },
  {
   "metadata": {
    "ExecuteTime": {
     "end_time": "2024-10-13T10:25:54.778166Z",
     "start_time": "2024-10-13T10:25:54.776353Z"
    }
   },
   "cell_type": "code",
   "source": "",
   "id": "2a76b938778b6186",
   "outputs": [],
   "execution_count": null
  }
 ],
 "metadata": {
  "kernelspec": {
   "display_name": "Python 3",
   "language": "python",
   "name": "python3"
  },
  "language_info": {
   "codemirror_mode": {
    "name": "ipython",
    "version": 2
   },
   "file_extension": ".py",
   "mimetype": "text/x-python",
   "name": "python",
   "nbconvert_exporter": "python",
   "pygments_lexer": "ipython2",
   "version": "2.7.6"
  }
 },
 "nbformat": 4,
 "nbformat_minor": 5
}
